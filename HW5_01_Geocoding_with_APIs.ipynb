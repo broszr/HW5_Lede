{
  "cells": [
    {
      "cell_type": "markdown",
      "id": "da3e179f-b0ff-489a-880a-542d165efc50",
      "metadata": {
        "id": "da3e179f-b0ff-489a-880a-542d165efc50"
      },
      "source": [
        "# Geocoding with libraries or APIs"
      ]
    },
    {
      "cell_type": "markdown",
      "id": "064a108d-a013-4919-ac68-bacc4e5d5cbe",
      "metadata": {
        "id": "064a108d-a013-4919-ac68-bacc4e5d5cbe"
      },
      "source": [
        "# Read in our addresses\n",
        "\n",
        "We'll never ever ever read in data like this again. But we'll do it now, because we love lists of dictionaries.\n",
        "\n",
        "- ***Tip:** If you get a file not found error, make sure the `addresses.csv` is in the same location as this Jupyter notebook. Maybe do `!pwd` to see where the notebook is!*"
      ]
    },
    {
      "cell_type": "code",
      "source": [
        "from google.colab import userdata\n",
        "API_KEY = userdata.get('API_KEY')"
      ],
      "metadata": {
        "id": "Pukq4K3iD6ad"
      },
      "id": "Pukq4K3iD6ad",
      "execution_count": 22,
      "outputs": []
    },
    {
      "cell_type": "code",
      "execution_count": 23,
      "id": "447f6dd0-27c9-41b1-a6bc-68278aed9b3e",
      "metadata": {
        "id": "447f6dd0-27c9-41b1-a6bc-68278aed9b3e",
        "outputId": "bcb47dc8-103b-4fd5-b07d-93825df0fc53",
        "colab": {
          "base_uri": "https://localhost:8080/"
        }
      },
      "outputs": [
        {
          "output_type": "stream",
          "name": "stdout",
          "text": [
            "Drive already mounted at /content/drive; to attempt to forcibly remount, call drive.mount(\"/content/drive\", force_remount=True).\n"
          ]
        },
        {
          "output_type": "execute_result",
          "data": {
            "text/plain": [
              "[{'street': '100 Ihwajang-gil',\n",
              "  'city': 'Ihwa-dong',\n",
              "  'state': 'Jongno District',\n",
              "  'postal_code': 'Seoul',\n",
              "  'country': 'South Korea'},\n",
              " {'street': '4 Chome-1-1 Shimomeguro',\n",
              "  'city': ' Meguro City',\n",
              "  'state': 'Tokyo',\n",
              "  'postal_code': '153-0064',\n",
              "  'country': 'Japan'},\n",
              " {'street': '1126 Green Giant Ln',\n",
              "  'city': 'Blue Earth',\n",
              "  'state': 'MN',\n",
              "  'postal_code': '56013',\n",
              "  'country': ''},\n",
              " {'street': '7477 Hubbard Ave',\n",
              "  'city': 'Middleton',\n",
              "  'state': 'WI',\n",
              "  'postal_code': '53562',\n",
              "  'country': None},\n",
              " {'street': 'Wrocławska 12',\n",
              "  'city': '',\n",
              "  'state': 'Poznań',\n",
              "  'postal_code': '61-838',\n",
              "  'country': 'Poland'}]"
            ]
          },
          "metadata": {},
          "execution_count": 23
        }
      ],
      "source": [
        "import pandas as pd\n",
        "import geocoder\n",
        "import csv\n",
        "from google.colab import drive\n",
        "drive.mount('/content/drive')\n",
        "with open('/content/drive/MyDrive/Colab_Notebooks/Homework_5/addresses.csv') as fp:\n",
        "    data = list(csv.DictReader(fp))\n",
        "\n",
        "data"
      ]
    },
    {
      "cell_type": "markdown",
      "id": "30f80328-6f00-45a5-9100-6872f4ee54e4",
      "metadata": {
        "id": "30f80328-6f00-45a5-9100-6872f4ee54e4"
      },
      "source": [
        "## Create the full addresses\n",
        "\n",
        "Loop through the list, creating a new `address` variable that includes the street, city, state, postal code and country. For now, just print it out.\n",
        "\n",
        "- ***Tip:** You can go really really far in crafting a perfect address for each result, but you might not need to.*\n",
        "- ***Tip:** You aren't making a list of addresses! Just printing it out.*"
      ]
    },
    {
      "cell_type": "code",
      "execution_count": 24,
      "id": "94aa130f-4e06-4bb3-ba71-c1b15e2f1c50",
      "metadata": {
        "id": "94aa130f-4e06-4bb3-ba71-c1b15e2f1c50",
        "colab": {
          "base_uri": "https://localhost:8080/"
        },
        "outputId": "b653b8df-43c0-48ec-d7ce-f5dec7de1c7e"
      },
      "outputs": [
        {
          "output_type": "execute_result",
          "data": {
            "text/plain": [
              "[{'street': '100 Ihwajang-gil',\n",
              "  'city': 'Ihwa-dong',\n",
              "  'state': 'Jongno District',\n",
              "  'postal_code': 'Seoul',\n",
              "  'country': 'South Korea'},\n",
              " {'street': '4 Chome-1-1 Shimomeguro',\n",
              "  'city': ' Meguro City',\n",
              "  'state': 'Tokyo',\n",
              "  'postal_code': '153-0064',\n",
              "  'country': 'Japan'},\n",
              " {'street': '1126 Green Giant Ln',\n",
              "  'city': 'Blue Earth',\n",
              "  'state': 'MN',\n",
              "  'postal_code': '56013',\n",
              "  'country': ''},\n",
              " {'street': '7477 Hubbard Ave',\n",
              "  'city': 'Middleton',\n",
              "  'state': 'WI',\n",
              "  'postal_code': '53562',\n",
              "  'country': None},\n",
              " {'street': 'Wrocławska 12',\n",
              "  'city': '',\n",
              "  'state': 'Poznań',\n",
              "  'postal_code': '61-838',\n",
              "  'country': 'Poland'}]"
            ]
          },
          "metadata": {},
          "execution_count": 24
        }
      ],
      "source": [
        "list(data)"
      ]
    },
    {
      "cell_type": "code",
      "source": [
        "for addr in data:\n",
        "  print(addr) #= data.street+\", \"+data.city+\", \"+data.state+\", \"+data.country+\", \"+data.postal_code\n",
        "  #print(address)\n"
      ],
      "metadata": {
        "colab": {
          "base_uri": "https://localhost:8080/"
        },
        "id": "vMJjr7Xzb2Gp",
        "outputId": "cde680e8-46b9-46f3-f484-abbc2f01c3a0"
      },
      "id": "vMJjr7Xzb2Gp",
      "execution_count": 25,
      "outputs": [
        {
          "output_type": "stream",
          "name": "stdout",
          "text": [
            "{'street': '100 Ihwajang-gil', 'city': 'Ihwa-dong', 'state': 'Jongno District', 'postal_code': 'Seoul', 'country': 'South Korea'}\n",
            "{'street': '4 Chome-1-1 Shimomeguro', 'city': ' Meguro City', 'state': 'Tokyo', 'postal_code': '153-0064', 'country': 'Japan'}\n",
            "{'street': '1126 Green Giant Ln', 'city': 'Blue Earth', 'state': 'MN', 'postal_code': '56013', 'country': ''}\n",
            "{'street': '7477 Hubbard Ave', 'city': 'Middleton', 'state': 'WI', 'postal_code': '53562', 'country': None}\n",
            "{'street': 'Wrocławska 12', 'city': '', 'state': 'Poznań', 'postal_code': '61-838', 'country': 'Poland'}\n"
          ]
        }
      ]
    },
    {
      "cell_type": "code",
      "source": [
        "for addr in data:\n",
        "  print(addr['street'])"
      ],
      "metadata": {
        "colab": {
          "base_uri": "https://localhost:8080/"
        },
        "id": "KiiqH15Ed92G",
        "outputId": "5bcd1cd9-3bc4-48c6-d261-0a2a0dc11d40"
      },
      "id": "KiiqH15Ed92G",
      "execution_count": 26,
      "outputs": [
        {
          "output_type": "stream",
          "name": "stdout",
          "text": [
            "100 Ihwajang-gil\n",
            "4 Chome-1-1 Shimomeguro\n",
            "1126 Green Giant Ln\n",
            "7477 Hubbard Ave\n",
            "Wrocławska 12\n"
          ]
        }
      ]
    },
    {
      "cell_type": "code",
      "source": [
        "for addr in data:\n",
        "  address = (addr['street']+\", \"+addr['city']+\", \"+addr['state']+\", \"+str(addr['country'])+\", \"+addr['postal_code'])\n",
        "  g = geocoder.google(address,key=API_KEY)\n",
        "  print(g.latlng)"
      ],
      "metadata": {
        "colab": {
          "base_uri": "https://localhost:8080/"
        },
        "id": "O6OusZIHeVRM",
        "outputId": "2f37ef36-400a-425b-bb6e-f6766e6ce64c"
      },
      "id": "O6OusZIHeVRM",
      "execution_count": 27,
      "outputs": [
        {
          "output_type": "stream",
          "name": "stdout",
          "text": [
            "[37.5798019, 127.0046643]\n",
            "[35.6317048, 139.706685]\n",
            "[43.650971, -94.09567899999999]\n",
            "[43.0952876, -89.51123369999999]\n",
            "[52.4065344, 16.9327697]\n"
          ]
        }
      ]
    },
    {
      "cell_type": "code",
      "source": [
        "for addr in data:\n",
        "  address = (addr['street']+\", \"+addr['city']+\", \"+addr['state']+\", \"+str(addr['country'])+\", \"+addr['postal_code'])\n",
        "  g = geocoder.google(address,key=API_KEY)\n",
        "  addr['coordinates']=g.latlng\n",
        "  addr['address']= address"
      ],
      "metadata": {
        "id": "VJ2mRYm8f0sO"
      },
      "id": "VJ2mRYm8f0sO",
      "execution_count": 28,
      "outputs": []
    },
    {
      "cell_type": "code",
      "source": [
        "df = pd.DataFrame(data)"
      ],
      "metadata": {
        "id": "zhOgai0KGyYV"
      },
      "id": "zhOgai0KGyYV",
      "execution_count": 29,
      "outputs": []
    },
    {
      "cell_type": "code",
      "source": [
        "df"
      ],
      "metadata": {
        "colab": {
          "base_uri": "https://localhost:8080/",
          "height": 206
        },
        "id": "tgA9xe-kG4Cy",
        "outputId": "ba601bed-48c5-4160-e146-8a73379ed995"
      },
      "id": "tgA9xe-kG4Cy",
      "execution_count": 30,
      "outputs": [
        {
          "output_type": "execute_result",
          "data": {
            "text/plain": [
              "                    street          city            state postal_code  \\\n",
              "0         100 Ihwajang-gil     Ihwa-dong  Jongno District       Seoul   \n",
              "1  4 Chome-1-1 Shimomeguro   Meguro City            Tokyo    153-0064   \n",
              "2      1126 Green Giant Ln    Blue Earth               MN       56013   \n",
              "3         7477 Hubbard Ave     Middleton               WI       53562   \n",
              "4            Wrocławska 12                         Poznań      61-838   \n",
              "\n",
              "       country                       coordinates  \\\n",
              "0  South Korea         [37.5798019, 127.0046643]   \n",
              "1        Japan          [35.6317048, 139.706685]   \n",
              "2                [43.650971, -94.09567899999999]   \n",
              "3         None  [43.0952876, -89.51123369999999]   \n",
              "4       Poland          [52.4065344, 16.9327697]   \n",
              "\n",
              "                                             address  \n",
              "0  100 Ihwajang-gil, Ihwa-dong, Jongno District, ...  \n",
              "1  4 Chome-1-1 Shimomeguro,  Meguro City, Tokyo, ...  \n",
              "2       1126 Green Giant Ln, Blue Earth, MN, , 56013  \n",
              "3       7477 Hubbard Ave, Middleton, WI, None, 53562  \n",
              "4            Wrocławska 12, , Poznań, Poland, 61-838  "
            ],
            "text/html": [
              "\n",
              "  <div id=\"df-9850f000-f556-4072-b17c-c0d19650e983\" class=\"colab-df-container\">\n",
              "    <div>\n",
              "<style scoped>\n",
              "    .dataframe tbody tr th:only-of-type {\n",
              "        vertical-align: middle;\n",
              "    }\n",
              "\n",
              "    .dataframe tbody tr th {\n",
              "        vertical-align: top;\n",
              "    }\n",
              "\n",
              "    .dataframe thead th {\n",
              "        text-align: right;\n",
              "    }\n",
              "</style>\n",
              "<table border=\"1\" class=\"dataframe\">\n",
              "  <thead>\n",
              "    <tr style=\"text-align: right;\">\n",
              "      <th></th>\n",
              "      <th>street</th>\n",
              "      <th>city</th>\n",
              "      <th>state</th>\n",
              "      <th>postal_code</th>\n",
              "      <th>country</th>\n",
              "      <th>coordinates</th>\n",
              "      <th>address</th>\n",
              "    </tr>\n",
              "  </thead>\n",
              "  <tbody>\n",
              "    <tr>\n",
              "      <th>0</th>\n",
              "      <td>100 Ihwajang-gil</td>\n",
              "      <td>Ihwa-dong</td>\n",
              "      <td>Jongno District</td>\n",
              "      <td>Seoul</td>\n",
              "      <td>South Korea</td>\n",
              "      <td>[37.5798019, 127.0046643]</td>\n",
              "      <td>100 Ihwajang-gil, Ihwa-dong, Jongno District, ...</td>\n",
              "    </tr>\n",
              "    <tr>\n",
              "      <th>1</th>\n",
              "      <td>4 Chome-1-1 Shimomeguro</td>\n",
              "      <td>Meguro City</td>\n",
              "      <td>Tokyo</td>\n",
              "      <td>153-0064</td>\n",
              "      <td>Japan</td>\n",
              "      <td>[35.6317048, 139.706685]</td>\n",
              "      <td>4 Chome-1-1 Shimomeguro,  Meguro City, Tokyo, ...</td>\n",
              "    </tr>\n",
              "    <tr>\n",
              "      <th>2</th>\n",
              "      <td>1126 Green Giant Ln</td>\n",
              "      <td>Blue Earth</td>\n",
              "      <td>MN</td>\n",
              "      <td>56013</td>\n",
              "      <td></td>\n",
              "      <td>[43.650971, -94.09567899999999]</td>\n",
              "      <td>1126 Green Giant Ln, Blue Earth, MN, , 56013</td>\n",
              "    </tr>\n",
              "    <tr>\n",
              "      <th>3</th>\n",
              "      <td>7477 Hubbard Ave</td>\n",
              "      <td>Middleton</td>\n",
              "      <td>WI</td>\n",
              "      <td>53562</td>\n",
              "      <td>None</td>\n",
              "      <td>[43.0952876, -89.51123369999999]</td>\n",
              "      <td>7477 Hubbard Ave, Middleton, WI, None, 53562</td>\n",
              "    </tr>\n",
              "    <tr>\n",
              "      <th>4</th>\n",
              "      <td>Wrocławska 12</td>\n",
              "      <td></td>\n",
              "      <td>Poznań</td>\n",
              "      <td>61-838</td>\n",
              "      <td>Poland</td>\n",
              "      <td>[52.4065344, 16.9327697]</td>\n",
              "      <td>Wrocławska 12, , Poznań, Poland, 61-838</td>\n",
              "    </tr>\n",
              "  </tbody>\n",
              "</table>\n",
              "</div>\n",
              "    <div class=\"colab-df-buttons\">\n",
              "\n",
              "  <div class=\"colab-df-container\">\n",
              "    <button class=\"colab-df-convert\" onclick=\"convertToInteractive('df-9850f000-f556-4072-b17c-c0d19650e983')\"\n",
              "            title=\"Convert this dataframe to an interactive table.\"\n",
              "            style=\"display:none;\">\n",
              "\n",
              "  <svg xmlns=\"http://www.w3.org/2000/svg\" height=\"24px\" viewBox=\"0 -960 960 960\">\n",
              "    <path d=\"M120-120v-720h720v720H120Zm60-500h600v-160H180v160Zm220 220h160v-160H400v160Zm0 220h160v-160H400v160ZM180-400h160v-160H180v160Zm440 0h160v-160H620v160ZM180-180h160v-160H180v160Zm440 0h160v-160H620v160Z\"/>\n",
              "  </svg>\n",
              "    </button>\n",
              "\n",
              "  <style>\n",
              "    .colab-df-container {\n",
              "      display:flex;\n",
              "      gap: 12px;\n",
              "    }\n",
              "\n",
              "    .colab-df-convert {\n",
              "      background-color: #E8F0FE;\n",
              "      border: none;\n",
              "      border-radius: 50%;\n",
              "      cursor: pointer;\n",
              "      display: none;\n",
              "      fill: #1967D2;\n",
              "      height: 32px;\n",
              "      padding: 0 0 0 0;\n",
              "      width: 32px;\n",
              "    }\n",
              "\n",
              "    .colab-df-convert:hover {\n",
              "      background-color: #E2EBFA;\n",
              "      box-shadow: 0px 1px 2px rgba(60, 64, 67, 0.3), 0px 1px 3px 1px rgba(60, 64, 67, 0.15);\n",
              "      fill: #174EA6;\n",
              "    }\n",
              "\n",
              "    .colab-df-buttons div {\n",
              "      margin-bottom: 4px;\n",
              "    }\n",
              "\n",
              "    [theme=dark] .colab-df-convert {\n",
              "      background-color: #3B4455;\n",
              "      fill: #D2E3FC;\n",
              "    }\n",
              "\n",
              "    [theme=dark] .colab-df-convert:hover {\n",
              "      background-color: #434B5C;\n",
              "      box-shadow: 0px 1px 3px 1px rgba(0, 0, 0, 0.15);\n",
              "      filter: drop-shadow(0px 1px 2px rgba(0, 0, 0, 0.3));\n",
              "      fill: #FFFFFF;\n",
              "    }\n",
              "  </style>\n",
              "\n",
              "    <script>\n",
              "      const buttonEl =\n",
              "        document.querySelector('#df-9850f000-f556-4072-b17c-c0d19650e983 button.colab-df-convert');\n",
              "      buttonEl.style.display =\n",
              "        google.colab.kernel.accessAllowed ? 'block' : 'none';\n",
              "\n",
              "      async function convertToInteractive(key) {\n",
              "        const element = document.querySelector('#df-9850f000-f556-4072-b17c-c0d19650e983');\n",
              "        const dataTable =\n",
              "          await google.colab.kernel.invokeFunction('convertToInteractive',\n",
              "                                                    [key], {});\n",
              "        if (!dataTable) return;\n",
              "\n",
              "        const docLinkHtml = 'Like what you see? Visit the ' +\n",
              "          '<a target=\"_blank\" href=https://colab.research.google.com/notebooks/data_table.ipynb>data table notebook</a>'\n",
              "          + ' to learn more about interactive tables.';\n",
              "        element.innerHTML = '';\n",
              "        dataTable['output_type'] = 'display_data';\n",
              "        await google.colab.output.renderOutput(dataTable, element);\n",
              "        const docLink = document.createElement('div');\n",
              "        docLink.innerHTML = docLinkHtml;\n",
              "        element.appendChild(docLink);\n",
              "      }\n",
              "    </script>\n",
              "  </div>\n",
              "\n",
              "\n",
              "    <div id=\"df-6af50412-72f0-4a7d-9e33-938d9b24100d\">\n",
              "      <button class=\"colab-df-quickchart\" onclick=\"quickchart('df-6af50412-72f0-4a7d-9e33-938d9b24100d')\"\n",
              "                title=\"Suggest charts\"\n",
              "                style=\"display:none;\">\n",
              "\n",
              "<svg xmlns=\"http://www.w3.org/2000/svg\" height=\"24px\"viewBox=\"0 0 24 24\"\n",
              "     width=\"24px\">\n",
              "    <g>\n",
              "        <path d=\"M19 3H5c-1.1 0-2 .9-2 2v14c0 1.1.9 2 2 2h14c1.1 0 2-.9 2-2V5c0-1.1-.9-2-2-2zM9 17H7v-7h2v7zm4 0h-2V7h2v10zm4 0h-2v-4h2v4z\"/>\n",
              "    </g>\n",
              "</svg>\n",
              "      </button>\n",
              "\n",
              "<style>\n",
              "  .colab-df-quickchart {\n",
              "      --bg-color: #E8F0FE;\n",
              "      --fill-color: #1967D2;\n",
              "      --hover-bg-color: #E2EBFA;\n",
              "      --hover-fill-color: #174EA6;\n",
              "      --disabled-fill-color: #AAA;\n",
              "      --disabled-bg-color: #DDD;\n",
              "  }\n",
              "\n",
              "  [theme=dark] .colab-df-quickchart {\n",
              "      --bg-color: #3B4455;\n",
              "      --fill-color: #D2E3FC;\n",
              "      --hover-bg-color: #434B5C;\n",
              "      --hover-fill-color: #FFFFFF;\n",
              "      --disabled-bg-color: #3B4455;\n",
              "      --disabled-fill-color: #666;\n",
              "  }\n",
              "\n",
              "  .colab-df-quickchart {\n",
              "    background-color: var(--bg-color);\n",
              "    border: none;\n",
              "    border-radius: 50%;\n",
              "    cursor: pointer;\n",
              "    display: none;\n",
              "    fill: var(--fill-color);\n",
              "    height: 32px;\n",
              "    padding: 0;\n",
              "    width: 32px;\n",
              "  }\n",
              "\n",
              "  .colab-df-quickchart:hover {\n",
              "    background-color: var(--hover-bg-color);\n",
              "    box-shadow: 0 1px 2px rgba(60, 64, 67, 0.3), 0 1px 3px 1px rgba(60, 64, 67, 0.15);\n",
              "    fill: var(--button-hover-fill-color);\n",
              "  }\n",
              "\n",
              "  .colab-df-quickchart-complete:disabled,\n",
              "  .colab-df-quickchart-complete:disabled:hover {\n",
              "    background-color: var(--disabled-bg-color);\n",
              "    fill: var(--disabled-fill-color);\n",
              "    box-shadow: none;\n",
              "  }\n",
              "\n",
              "  .colab-df-spinner {\n",
              "    border: 2px solid var(--fill-color);\n",
              "    border-color: transparent;\n",
              "    border-bottom-color: var(--fill-color);\n",
              "    animation:\n",
              "      spin 1s steps(1) infinite;\n",
              "  }\n",
              "\n",
              "  @keyframes spin {\n",
              "    0% {\n",
              "      border-color: transparent;\n",
              "      border-bottom-color: var(--fill-color);\n",
              "      border-left-color: var(--fill-color);\n",
              "    }\n",
              "    20% {\n",
              "      border-color: transparent;\n",
              "      border-left-color: var(--fill-color);\n",
              "      border-top-color: var(--fill-color);\n",
              "    }\n",
              "    30% {\n",
              "      border-color: transparent;\n",
              "      border-left-color: var(--fill-color);\n",
              "      border-top-color: var(--fill-color);\n",
              "      border-right-color: var(--fill-color);\n",
              "    }\n",
              "    40% {\n",
              "      border-color: transparent;\n",
              "      border-right-color: var(--fill-color);\n",
              "      border-top-color: var(--fill-color);\n",
              "    }\n",
              "    60% {\n",
              "      border-color: transparent;\n",
              "      border-right-color: var(--fill-color);\n",
              "    }\n",
              "    80% {\n",
              "      border-color: transparent;\n",
              "      border-right-color: var(--fill-color);\n",
              "      border-bottom-color: var(--fill-color);\n",
              "    }\n",
              "    90% {\n",
              "      border-color: transparent;\n",
              "      border-bottom-color: var(--fill-color);\n",
              "    }\n",
              "  }\n",
              "</style>\n",
              "\n",
              "      <script>\n",
              "        async function quickchart(key) {\n",
              "          const quickchartButtonEl =\n",
              "            document.querySelector('#' + key + ' button');\n",
              "          quickchartButtonEl.disabled = true;  // To prevent multiple clicks.\n",
              "          quickchartButtonEl.classList.add('colab-df-spinner');\n",
              "          try {\n",
              "            const charts = await google.colab.kernel.invokeFunction(\n",
              "                'suggestCharts', [key], {});\n",
              "          } catch (error) {\n",
              "            console.error('Error during call to suggestCharts:', error);\n",
              "          }\n",
              "          quickchartButtonEl.classList.remove('colab-df-spinner');\n",
              "          quickchartButtonEl.classList.add('colab-df-quickchart-complete');\n",
              "        }\n",
              "        (() => {\n",
              "          let quickchartButtonEl =\n",
              "            document.querySelector('#df-6af50412-72f0-4a7d-9e33-938d9b24100d button');\n",
              "          quickchartButtonEl.style.display =\n",
              "            google.colab.kernel.accessAllowed ? 'block' : 'none';\n",
              "        })();\n",
              "      </script>\n",
              "    </div>\n",
              "\n",
              "  <div id=\"id_2cf566eb-2c68-41cd-8e64-cf043e40b26c\">\n",
              "    <style>\n",
              "      .colab-df-generate {\n",
              "        background-color: #E8F0FE;\n",
              "        border: none;\n",
              "        border-radius: 50%;\n",
              "        cursor: pointer;\n",
              "        display: none;\n",
              "        fill: #1967D2;\n",
              "        height: 32px;\n",
              "        padding: 0 0 0 0;\n",
              "        width: 32px;\n",
              "      }\n",
              "\n",
              "      .colab-df-generate:hover {\n",
              "        background-color: #E2EBFA;\n",
              "        box-shadow: 0px 1px 2px rgba(60, 64, 67, 0.3), 0px 1px 3px 1px rgba(60, 64, 67, 0.15);\n",
              "        fill: #174EA6;\n",
              "      }\n",
              "\n",
              "      [theme=dark] .colab-df-generate {\n",
              "        background-color: #3B4455;\n",
              "        fill: #D2E3FC;\n",
              "      }\n",
              "\n",
              "      [theme=dark] .colab-df-generate:hover {\n",
              "        background-color: #434B5C;\n",
              "        box-shadow: 0px 1px 3px 1px rgba(0, 0, 0, 0.15);\n",
              "        filter: drop-shadow(0px 1px 2px rgba(0, 0, 0, 0.3));\n",
              "        fill: #FFFFFF;\n",
              "      }\n",
              "    </style>\n",
              "    <button class=\"colab-df-generate\" onclick=\"generateWithVariable('df')\"\n",
              "            title=\"Generate code using this dataframe.\"\n",
              "            style=\"display:none;\">\n",
              "\n",
              "  <svg xmlns=\"http://www.w3.org/2000/svg\" height=\"24px\"viewBox=\"0 0 24 24\"\n",
              "       width=\"24px\">\n",
              "    <path d=\"M7,19H8.4L18.45,9,17,7.55,7,17.6ZM5,21V16.75L18.45,3.32a2,2,0,0,1,2.83,0l1.4,1.43a1.91,1.91,0,0,1,.58,1.4,1.91,1.91,0,0,1-.58,1.4L9.25,21ZM18.45,9,17,7.55Zm-12,3A5.31,5.31,0,0,0,4.9,8.1,5.31,5.31,0,0,0,1,6.5,5.31,5.31,0,0,0,4.9,4.9,5.31,5.31,0,0,0,6.5,1,5.31,5.31,0,0,0,8.1,4.9,5.31,5.31,0,0,0,12,6.5,5.46,5.46,0,0,0,6.5,12Z\"/>\n",
              "  </svg>\n",
              "    </button>\n",
              "    <script>\n",
              "      (() => {\n",
              "      const buttonEl =\n",
              "        document.querySelector('#id_2cf566eb-2c68-41cd-8e64-cf043e40b26c button.colab-df-generate');\n",
              "      buttonEl.style.display =\n",
              "        google.colab.kernel.accessAllowed ? 'block' : 'none';\n",
              "\n",
              "      buttonEl.onclick = () => {\n",
              "        google.colab.notebook.generateWithVariable('df');\n",
              "      }\n",
              "      })();\n",
              "    </script>\n",
              "  </div>\n",
              "\n",
              "    </div>\n",
              "  </div>\n"
            ],
            "application/vnd.google.colaboratory.intrinsic+json": {
              "type": "dataframe",
              "variable_name": "df",
              "summary": "{\n  \"name\": \"df\",\n  \"rows\": 5,\n  \"fields\": [\n    {\n      \"column\": \"street\",\n      \"properties\": {\n        \"dtype\": \"string\",\n        \"num_unique_values\": 5,\n        \"samples\": [\n          \"4 Chome-1-1 Shimomeguro\",\n          \"Wroc\\u0142awska 12\",\n          \"1126 Green Giant Ln\"\n        ],\n        \"semantic_type\": \"\",\n        \"description\": \"\"\n      }\n    },\n    {\n      \"column\": \"city\",\n      \"properties\": {\n        \"dtype\": \"string\",\n        \"num_unique_values\": 5,\n        \"samples\": [\n          \" Meguro City\",\n          \"\",\n          \"Blue Earth\"\n        ],\n        \"semantic_type\": \"\",\n        \"description\": \"\"\n      }\n    },\n    {\n      \"column\": \"state\",\n      \"properties\": {\n        \"dtype\": \"string\",\n        \"num_unique_values\": 5,\n        \"samples\": [\n          \"Tokyo\",\n          \"Pozna\\u0144\",\n          \"MN\"\n        ],\n        \"semantic_type\": \"\",\n        \"description\": \"\"\n      }\n    },\n    {\n      \"column\": \"postal_code\",\n      \"properties\": {\n        \"dtype\": \"string\",\n        \"num_unique_values\": 5,\n        \"samples\": [\n          \"153-0064\",\n          \"61-838\",\n          \"56013\"\n        ],\n        \"semantic_type\": \"\",\n        \"description\": \"\"\n      }\n    },\n    {\n      \"column\": \"country\",\n      \"properties\": {\n        \"dtype\": \"string\",\n        \"num_unique_values\": 4,\n        \"samples\": [\n          \"Japan\",\n          \"Poland\",\n          \"South Korea\"\n        ],\n        \"semantic_type\": \"\",\n        \"description\": \"\"\n      }\n    },\n    {\n      \"column\": \"coordinates\",\n      \"properties\": {\n        \"dtype\": \"object\",\n        \"semantic_type\": \"\",\n        \"description\": \"\"\n      }\n    },\n    {\n      \"column\": \"address\",\n      \"properties\": {\n        \"dtype\": \"string\",\n        \"num_unique_values\": 5,\n        \"samples\": [\n          \"4 Chome-1-1 Shimomeguro,  Meguro City, Tokyo, Japan, 153-0064\",\n          \"Wroc\\u0142awska 12, , Pozna\\u0144, Poland, 61-838\",\n          \"1126 Green Giant Ln, Blue Earth, MN, , 56013\"\n        ],\n        \"semantic_type\": \"\",\n        \"description\": \"\"\n      }\n    }\n  ]\n}"
            }
          },
          "metadata": {},
          "execution_count": 30
        }
      ]
    },
    {
      "cell_type": "markdown",
      "id": "8956fdf3-4b2d-4a49-8718-9692417a714e",
      "metadata": {
        "id": "8956fdf3-4b2d-4a49-8718-9692417a714e"
      },
      "source": [
        "## Geocode the address\n",
        "\n",
        "**Copy and paste the code from above into the cell below,** it will be your starting point.\n",
        "\n",
        "At the end of this step, you should have a list of dictionaries with two new keys: **lat** and **lon**, that are the latitude and longitude of the address. Gecode the addresses using either Google's geocoding API directly or the Geocoder library. REMOVED API KEY\n",
        "\n",
        "- Google geocoding API documentation: https://developers.google.com/maps/documentation/geocoding/requests-geocoding\n",
        "- Geocoder documentation: https://geocoder.readthedocs.io/\n",
        "\n",
        "**You can also try another geocoder if you'd like!** I would have liked to *demand* a different API but hey it's 1:43PM and you need this homework *now*.\n",
        "\n",
        "**Tips:**\n",
        "\n",
        "* *What order are lat and long in???*\n",
        "* *You can do this by creating 100% new list of dicts or updating the old one inside of the loop.*"
      ]
    },
    {
      "cell_type": "code",
      "execution_count": 31,
      "id": "32cd8ef9-b3ea-4a32-bca6-8394b0cac54d",
      "metadata": {
        "id": "32cd8ef9-b3ea-4a32-bca6-8394b0cac54d"
      },
      "outputs": [],
      "source": [
        "# Copy and paste the code from the \"Create the full addresses\" section"
      ]
    },
    {
      "cell_type": "markdown",
      "id": "c38140c2-58dc-45d0-975b-a58fb01a72d6",
      "metadata": {
        "id": "c38140c2-58dc-45d0-975b-a58fb01a72d6"
      },
      "source": [
        "## Save the results\n",
        "\n",
        "This is so embarrassing to be doing it like this but we're doing it anyway. **Pay attention to your key names for latitude and longitude.**"
      ]
    },
    {
      "cell_type": "code",
      "source": [
        "df.to_csv('HW5.csv',index=False)"
      ],
      "metadata": {
        "id": "4cX3k50NhGPo"
      },
      "id": "4cX3k50NhGPo",
      "execution_count": 32,
      "outputs": []
    },
    {
      "cell_type": "code",
      "source": [],
      "metadata": {
        "id": "XuO24Ik1hXBJ"
      },
      "id": "XuO24Ik1hXBJ",
      "execution_count": 32,
      "outputs": []
    }
  ],
  "metadata": {
    "kernelspec": {
      "display_name": "Python 3 (ipykernel)",
      "language": "python",
      "name": "python3"
    },
    "language_info": {
      "codemirror_mode": {
        "name": "ipython",
        "version": 3
      },
      "file_extension": ".py",
      "mimetype": "text/x-python",
      "name": "python",
      "nbconvert_exporter": "python",
      "pygments_lexer": "ipython3",
      "version": "3.10.13"
    },
    "colab": {
      "provenance": []
    }
  },
  "nbformat": 4,
  "nbformat_minor": 5
}
